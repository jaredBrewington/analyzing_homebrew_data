{
 "cells": [
  {
   "cell_type": "code",
   "execution_count": null,
   "metadata": {},
   "outputs": [],
   "source": [
    "import pandas as pd\n",
    "import json\n",
    "import plotly as py\n",
    "# Set notebook mode to work in offline\n",
    "py.offline.init_notebook_mode()\n",
    "import plotly.graph_objects as go\n",
    "import ipywidgets\n",
    "import matplotlib"
   ]
  },
  {
   "cell_type": "code",
   "execution_count": null,
   "metadata": {},
   "outputs": [],
   "source": [
    "with open('homebrew_analytics.json') as f:\n",
    "    data = json.load(f)\n",
    "    \n",
    "df = pd.io.json.json_normalize(data)\n",
    "df.head(3)"
   ]
  },
  {
   "cell_type": "code",
   "execution_count": null,
   "metadata": {},
   "outputs": [],
   "source": [
    "df_top10 = df.sort_values(by='installs.30d', ascending=False)[:10]\n",
    "\n",
    "fig = go.Figure(data=[\n",
    "    go.Bar(\n",
    "        x=df_top10['name'], \n",
    "        y=df_top10['installs.30d'],\n",
    "        text = df_top10['installs.30d'],\n",
    "        textposition='outside'\n",
    "    )\n",
    "])\n",
    "fig.update_layout(\n",
    "    title = 'Installs for 30 days', \n",
    "    yaxis=dict(\n",
    "        title = 'Downloads'\n",
    "    ),\n",
    ")\n",
    "fig.show()"
   ]
  },
  {
   "cell_type": "code",
   "execution_count": null,
   "metadata": {},
   "outputs": [],
   "source": [
    "df_top10 = df.sort_values(by='installs_on_request.365d', ascending=False)[:10]\n",
    "\n",
    "fig = go.Figure(data=[\n",
    "    go.Bar(\n",
    "        name='30 days',\n",
    "        x=df_top10['name'],\n",
    "        y=df_top10['installs_on_request.30d'],\n",
    "        hovertext = df_top10['installs_on_request.30d'],\n",
    "        hoverinfo='text'\n",
    "    ),\n",
    "    go.Bar(\n",
    "        name='90 days',\n",
    "        x=df_top10['name'],\n",
    "        y=df_top10['installs_on_request.90d']-df_top10['installs_on_request.30d'],\n",
    "        hovertext = df_top10['installs_on_request.90d'],\n",
    "        hoverinfo='text'\n",
    "    ),\n",
    "    go.Bar(\n",
    "        name='365 days',\n",
    "        x=df_top10['name'],\n",
    "        y=df_top10['installs_on_request.365d']-df_top10['installs_on_request.90d'],\n",
    "        hovertext = df_top10['installs_on_request.365d'],\n",
    "        hoverinfo='text'\n",
    "    )\n",
    "])\n",
    "\n",
    "fig.update_layout(\n",
    "    title='Most Popular installs on request', \n",
    "    barmode='stack',\n",
    "    yaxis=dict(\n",
    "        title='Number of installs'\n",
    "    )\n",
    ")\n",
    "fig.show()\n"
   ]
  },
  {
   "cell_type": "code",
   "execution_count": null,
   "metadata": {},
   "outputs": [],
   "source": [
    "def make_pie_chart(labels, values, title=None):\n",
    "    fig = go.Figure(data=[\n",
    "        go.Pie(\n",
    "            labels = labels,\n",
    "            values = values,\n",
    "            textinfo = 'label+percent',\n",
    "        )\n",
    "    ])\n",
    "    fig.update_layout(title=title)\n",
    "    fig.show()\n",
    "    \n",
    "    \n",
    "df_top = df.sort_values(by='installs_on_request.365d', ascending=False)[:20]\n",
    "make_pie_chart(df_top['name'], \n",
    "               df_top['installs_on_request.365d'], \n",
    "               title='Top 20 Requested Installs on request for the Last 365 Days')"
   ]
  },
  {
   "cell_type": "code",
   "execution_count": null,
   "metadata": {},
   "outputs": [],
   "source": [
    "df_video_packages = df[df['desc'].str.contains('video')]\n",
    "\n",
    "make_pie_chart(\n",
    "    df_video_packages['name'], \n",
    "    df_video_packages['installs.365d'], \n",
    "    title='Video Package Installs for the Last 365 Days'\n",
    ")"
   ]
  },
  {
   "cell_type": "code",
   "execution_count": null,
   "metadata": {},
   "outputs": [],
   "source": [
    "total_video_package_downloads = sum(df_video_packages['installs.365d'])\n",
    "\n",
    "df_video_simplified = pd.DataFrame(columns=df_video_packages.columns)\n",
    "df_video_simplified.loc[0]=['other','n/a', 0,0,0, 0,0,0]\n",
    "\n",
    "for i, row in df_video_packages.iterrows():\n",
    "    if row['installs.365d']/total_video_package_downloads < .01:\n",
    "        df_video_simplified.loc[0]['installs_on_request.30d']  += row['installs_on_request.30d']\n",
    "        df_video_simplified.loc[0]['installs_on_request.90d']  += row['installs_on_request.90d']\n",
    "        df_video_simplified.loc[0]['installs_on_request.365d'] += row['installs_on_request.365d']\n",
    "\n",
    "        df_video_simplified.loc[0]['installs.30d']  += row['installs.30d']\n",
    "        df_video_simplified.loc[0]['installs.90d']  += row['installs.90d']\n",
    "        df_video_simplified.loc[0]['installs.365d'] += row['installs.365d']\n",
    "\n",
    "    else:\n",
    "        df_video_simplified = df_video_simplified.append(row)\n",
    "        \n",
    "make_pie_chart(df_video_simplified['name'], \n",
    "               df_video_simplified['installs.365d'],\n",
    "               title='Video Package Installs for the last 365 Days')\n",
    "        "
   ]
  }
 ],
 "metadata": {
  "kernelspec": {
   "display_name": "Python 3.7.4 64-bit ('base': conda)",
   "language": "python",
   "name": "python37464bitbaseconda16f9f4da63fd4e49bb66ced449fdc8d1"
  },
  "language_info": {
   "codemirror_mode": {
    "name": "ipython",
    "version": 3
   },
   "file_extension": ".py",
   "mimetype": "text/x-python",
   "name": "python",
   "nbconvert_exporter": "python",
   "pygments_lexer": "ipython3",
   "version": "3.7.4"
  }
 },
 "nbformat": 4,
 "nbformat_minor": 4
}
